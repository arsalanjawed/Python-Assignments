{
 "cells": [
  {
   "cell_type": "code",
   "execution_count": 22,
   "metadata": {},
   "outputs": [
    {
     "name": "stdout",
     "output_type": "stream",
     "text": [
      "Twinkle, twinkle, little star,\n",
      "      How I wonder what you are!\n",
      "            Up above the world so high,\n",
      "            Like a diamond in the sky.\n",
      "Twinkle, twinkle, little star,\n",
      "      How I wonder what you are\n"
     ]
    }
   ],
   "source": [
    "#1. Write a Python program to print the following string in a specific format\n",
    "#(see the output).\n",
    "print(\"Twinkle, twinkle, little star,\"\"\\n\"\"      How I wonder what you are!\"\"\\n\"\"            Up above the world so high,\"\"\\n\"\"            Like a diamond in the sky.\"\"\\n\"\"Twinkle, twinkle, little star,\"\"\\n\"\"      How I wonder what you are\")"
   ]
  },
  {
   "cell_type": "code",
   "execution_count": 24,
   "metadata": {},
   "outputs": [
    {
     "data": {
      "text/plain": [
       "'3.7.3 (default, Apr 24 2019, 13:20:13) [MSC v.1915 32 bit (Intel)]'"
      ]
     },
     "execution_count": 24,
     "metadata": {},
     "output_type": "execute_result"
    }
   ],
   "source": [
    "#2. Write a Python program to get the Python version you are using\n",
    "import sys\n",
    "sys.version"
   ]
  },
  {
   "cell_type": "code",
   "execution_count": 28,
   "metadata": {},
   "outputs": [
    {
     "name": "stdout",
     "output_type": "stream",
     "text": [
      "Current date and time : \n",
      "2019-10-30 12:40:38\n"
     ]
    }
   ],
   "source": [
    "#3. Write a Python program to display the current date and time.\n",
    "import datetime\n",
    "now = datetime.datetime.now()\n",
    "print (\"Current date and time : \")\n",
    "print (now.strftime(\"%Y-%m-%d %H:%M:%S\"))\n"
   ]
  },
  {
   "cell_type": "code",
   "execution_count": 2,
   "metadata": {},
   "outputs": [
    {
     "name": "stdout",
     "output_type": "stream",
     "text": [
      "Enter Your Radius: 2\n"
     ]
    },
    {
     "data": {
      "text/plain": [
       "12.56636"
      ]
     },
     "execution_count": 2,
     "metadata": {},
     "output_type": "execute_result"
    }
   ],
   "source": [
    "#4. Write a Python program which accepts the radius of a circle from the user\n",
    "#and compute the area.\n",
    "radius=int(input(\"Enter Your Radius: \"))\n",
    "pie=3.14159\n",
    "area=pie*radius**2\n",
    "area"
   ]
  },
  {
   "cell_type": "code",
   "execution_count": 39,
   "metadata": {},
   "outputs": [
    {
     "name": "stdout",
     "output_type": "stream",
     "text": [
      "enter your First Name: Arsalan\n",
      "enter your Last Name: Jawed\n",
      "Jawed Arsalan\n"
     ]
    }
   ],
   "source": [
    "#5. Write a Python program which accepts the user's first and last name and\n",
    "#print them in reverse order with a space between them.\n",
    "firstn=input(\"enter your First Name: \")\n",
    "lastn=input(\"enter your Last Name: \")\n",
    "print(lastn+\" \"+firstn)"
   ]
  },
  {
   "cell_type": "code",
   "execution_count": 4,
   "metadata": {},
   "outputs": [
    {
     "name": "stdout",
     "output_type": "stream",
     "text": [
      "Enter your First Number: 4\n",
      "Enter your Second Number: 3\n"
     ]
    },
    {
     "data": {
      "text/plain": [
       "7"
      ]
     },
     "execution_count": 4,
     "metadata": {},
     "output_type": "execute_result"
    }
   ],
   "source": [
    "#6. Write a python program which takes two inputs from user and print them\n",
    "#addition\n",
    "num1=int(input(\"Enter your First Number: \"))\n",
    "num2=int(input(\"Enter your Second Number: \"))\n",
    "num3=num1 + num2\n",
    "num3"
   ]
  },
  {
   "cell_type": "code",
   "execution_count": null,
   "metadata": {},
   "outputs": [],
   "source": []
  },
  {
   "cell_type": "code",
   "execution_count": null,
   "metadata": {},
   "outputs": [],
   "source": []
  }
 ],
 "metadata": {
  "kernelspec": {
   "display_name": "Python 3",
   "language": "python",
   "name": "python3"
  },
  "language_info": {
   "codemirror_mode": {
    "name": "ipython",
    "version": 3
   },
   "file_extension": ".py",
   "mimetype": "text/x-python",
   "name": "python",
   "nbconvert_exporter": "python",
   "pygments_lexer": "ipython3",
   "version": "3.7.3"
  }
 },
 "nbformat": 4,
 "nbformat_minor": 2
}
